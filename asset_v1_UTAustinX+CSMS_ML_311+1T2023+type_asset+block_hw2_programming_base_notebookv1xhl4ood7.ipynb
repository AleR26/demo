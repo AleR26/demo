{
  "cells": [
    {
      "cell_type": "markdown",
      "metadata": {
        "id": "view-in-github",
        "colab_type": "text"
      },
      "source": [
        "<a href=\"https://colab.research.google.com/github/AleR26/demo/blob/master/asset_v1_UTAustinX%2BCSMS_ML_311%2B1T2023%2Btype_asset%2Bblock_hw2_programming_base_notebookv1xhl4ood7.ipynb\" target=\"_parent\"><img src=\"https://colab.research.google.com/assets/colab-badge.svg\" alt=\"Open In Colab\"/></a>"
      ]
    },
    {
      "cell_type": "code",
      "execution_count": 1,
      "metadata": {
        "id": "1Rg2uSiFSRJe"
      },
      "outputs": [],
      "source": [
        "import numpy as np\n",
        "import matplotlib.pyplot as plt\n",
        "from sklearn.linear_model import LogisticRegression\n",
        "import pandas as pd"
      ]
    },
    {
      "cell_type": "markdown",
      "metadata": {
        "id": "oDTSO7-MSRJj"
      },
      "source": [
        "# Problem 1\n",
        "## Dataset Generation"
      ]
    },
    {
      "cell_type": "markdown",
      "metadata": {
        "id": "Tx7KW28cSRJk"
      },
      "source": [
        "Write a function to **generate a training set** of size $m$\n",
        "- randomly generate a weight vector $w \\in \\mathbb{R}^{10}$, normalize length\n",
        "- generate a training set $\\{(x_i , y_i)\\}$ of size m\n",
        "  - $x_i$: random vector in $\\mathbb{R}^{10}$ from $\\textbf{N}(0, I)$\n",
        "  - $y_i$: $\\{0, +1\\}$ with $P[y = +1] = \\sigma(w \\cdot x_i)$ and $P[y = 0] = 1 - \\sigma(w \\cdot x_i)$"
      ]
    },
    {
      "cell_type": "code",
      "execution_count": 2,
      "metadata": {
        "id": "AUHuXrsgSRJl"
      },
      "outputs": [],
      "source": [
        "def generate_data(m):\n",
        "    # returns the true w as well as X, Y data\n",
        "    #create random normal vector\n",
        "    w = np.random.normal(size=10)\n",
        "    #norm of the vector\n",
        "    w_norm = np.linalg.norm(w)\n",
        "    #w*\n",
        "    w_star = w / w_norm    \n",
        "    xi_data = []\n",
        "    yi_data = []\n",
        "    for i in range(m):\n",
        "      xi = np.random.normal(size=10)\n",
        "      dotprd= np.dot(w_star, xi)\n",
        "      probability = 1 / (1 + np.exp(-dotprd))\n",
        "      if np.random.rand() < probability:\n",
        "        yi = 1\n",
        "      else:\n",
        "        yi = 0\n",
        "      # training_set.append((xi, yi))\n",
        "      xi_data.append(xi)\n",
        "      yi_data.append(yi)  \n",
        "    return w_star, xi_data, yi_data, w\n",
        "w_star, xi_data, yi_data, w = generate_data(50)"
      ]
    },
    {
      "cell_type": "markdown",
      "metadata": {
        "id": "wx2-15fASRJy"
      },
      "source": [
        "## Algorithm 1: logistic regression\n",
        "\n",
        "The goal is to learn $w$.  Algorithm 1 is logistic\n",
        "  regression (you may use the built-in method LogisticRegression for this. Use max_iter=1000)."
      ]
    },
    {
      "cell_type": "code",
      "execution_count": 3,
      "metadata": {
        "colab": {
          "base_uri": "https://localhost:8080/"
        },
        "id": "Vj8b21jgSRJz",
        "outputId": "400f52d5-8150-46f5-d3dd-90ad0a514557"
      },
      "outputs": [
        {
          "output_type": "execute_result",
          "data": {
            "text/plain": [
              "1.3558163364125366"
            ]
          },
          "metadata": {},
          "execution_count": 3
        }
      ],
      "source": [
        "w_star, xi_data, yi_data, w = generate_data(10)\n",
        "def logisticRegression(xi_data,yi_data):\n",
        "    clf = LogisticRegression(max_iter=1000)\n",
        "    clf.fit(xi_data, yi_data)\n",
        "    w_prime = clf.coef_\n",
        "    return w_prime\n",
        "w_reg = logisticRegression(xi_data, yi_data)\n",
        "result_reg =  np.linalg.norm(np.subtract(w_star, w_reg))\n",
        "result_reg\n"
      ]
    },
    {
      "cell_type": "markdown",
      "metadata": {
        "id": "YzmNdy6ZSRJ3"
      },
      "source": [
        "## Algorithm 2: gradient descent with square loss\n",
        "\n",
        "Define square loss as\n",
        "$$L_i(w^{(t)}) = \\frac{1}{2} \\left( \\sigma(w^{(t)} \\cdot x) - y_i \\right)^2$$\n",
        "\n",
        "  Algorithm 2 is\n",
        "  gradient descent with respect to square loss (code this\n",
        "  up yourself -- run for 1000 iterations, use step size eta = 0.01)."
      ]
    },
    {
      "cell_type": "code",
      "source": [
        "\n"
      ],
      "metadata": {
        "id": "l6KmZ__nV0-C"
      },
      "execution_count": 3,
      "outputs": []
    },
    {
      "cell_type": "code",
      "source": [
        "def gradient_descent(x, y, w, learning_rate, iterations):\n",
        "    m = len(y)\n",
        "    for i in range(iterations):\n",
        "        # Compute the predictions\n",
        "        y_pred = np.dot(x, w)\n",
        "\n",
        "        # Compute the gradient of the loss function with respect to w\n",
        "        gradient = w - (1/m) *learning_rate* (x.T.dot((y_pred - y)))\n",
        "\n",
        "        # Update the parameters\n",
        "        w = gradient\n",
        "    return w\n",
        "w_star, xi_data, yi_data, w = generate_data(10)\n",
        "x = np.array(xi_data)\n",
        "y = yi_data\n",
        "eta = 0.01\n",
        "iterations = 1000\n",
        "w_grad = gradient_descent(x, y, w, eta, iterations)\n",
        "result_grad =  np.linalg.norm(np.subtract(w_star, w_grad))\n",
        "result_grad\n"
      ],
      "metadata": {
        "colab": {
          "base_uri": "https://localhost:8080/"
        },
        "id": "ad1sMpiQX2wy",
        "outputId": "50838d48-86bd-44a6-f268-9c3b313df6fd"
      },
      "execution_count": 4,
      "outputs": [
        {
          "output_type": "execute_result",
          "data": {
            "text/plain": [
              "1.0742305748540597"
            ]
          },
          "metadata": {},
          "execution_count": 4
        }
      ]
    },
    {
      "cell_type": "markdown",
      "metadata": {
        "id": "K_gQpaYfBRDv"
      },
      "source": [
        "\n",
        "\n",
        "> Indented block\n",
        "\n",
        "\n",
        "\n",
        "```\n",
        "# This is formatted as code\n",
        "```\n",
        "\n",
        "## Algorithm 3: stochastic gradient descent with square loss\n",
        "Similar to gradient descent, except we use the gradient at a single random training point every iteration."
      ]
    },
    {
      "cell_type": "code",
      "execution_count": 5,
      "metadata": {
        "id": "sblR1q7EBRDw",
        "colab": {
          "base_uri": "https://localhost:8080/"
        },
        "outputId": "82df4295-280e-4888-e8c8-3e28f1dc5eec"
      },
      "outputs": [
        {
          "output_type": "execute_result",
          "data": {
            "text/plain": [
              "1.2773618311649217"
            ]
          },
          "metadata": {},
          "execution_count": 5
        }
      ],
      "source": [
        "from numpy.linalg import slogdet\n",
        "def SGD(x, y, w, learning_rate, iterations):\n",
        "  m = len(y)\n",
        "  for i in range(iterations):\n",
        "        # Compute the predictions\n",
        "        rand_ind = np.random.randint(m)\n",
        "        x_i = x[rand_ind,:]\n",
        "        y_i = y[rand_ind]\n",
        "        y_pred = np.dot(x_i, w)\n",
        "\n",
        "        # Compute the gradient of the loss function with respect to w\n",
        "        gradient = w - (1/m)*learning_rate * np.dot(x_i.T, (y_pred - y_i)) \n",
        "        # Update the parameters\n",
        "        w = gradient\n",
        "  return w\n",
        "w_star, xi_data, yi_data, w = generate_data(10)\n",
        "x = np.array(xi_data)\n",
        "y = yi_data\n",
        "eta = 0.01\n",
        "iterations = 1000\n",
        "w_sgd = SGD(x, y, w, eta, iterations)\n",
        "result_sgd =  np.linalg.norm(np.subtract(w_star, w_sgd))\n",
        "result_sgd\n",
        "\n"
      ]
    },
    {
      "cell_type": "markdown",
      "metadata": {
        "id": "5A-dLi3TSRJ-"
      },
      "source": [
        "## Evaluation\n",
        "\n",
        "Measure error $\\|w - \\hat{w}\\|_2$ for each method at different sample size. For any\n",
        "  fixed value of $m$, choose many different $w$'s and average the\n",
        "  values $\\|w - \n",
        "  \\hat{w}\\|_2$ for Algorithms 1, 2 and 3.  Plot the results\n",
        "  for for each algorithm as you make $m$ large (use $m=50, 100, 150, 200, 250$).\n",
        "  Also record, for each algorithm, the time taken to run the overall experiment."
      ]
    },
    {
      "cell_type": "code",
      "execution_count": 6,
      "metadata": {
        "id": "GxjoAM4qBRDw",
        "colab": {
          "base_uri": "https://localhost:8080/",
          "height": 335
        },
        "outputId": "f94f86b6-dca8-44bf-b1fc-1b69d6cb0db3"
      },
      "outputs": [
        {
          "output_type": "stream",
          "name": "stdout",
          "text": [
            "Time taken to logistic regression:  0.008055686950683594  seconds\n",
            "Time taken to gradient Descent:  0.012245655059814453  seconds\n",
            "Time taken to Stochastic gradient descent:  0.017252445220947266  seconds\n"
          ]
        },
        {
          "output_type": "display_data",
          "data": {
            "text/plain": [
              "<Figure size 432x288 with 1 Axes>"
            ],
            "image/png": "[encoded data removed]"
          },
          "metadata": {
            "needs_background": "light"
          }
        }
      ],
      "source": [
        "import matplotlib.pyplot as plt\n",
        "import time\n",
        "\n",
        "lst_m = [50,100,150,200,250]\n",
        "lst_reg = []\n",
        "lst_grad=[]\n",
        "lst_sgd=[]\n",
        "\n",
        "for i in lst_m:\n",
        "    w_star, xi_data, yi_data,w = generate_data(i)\n",
        "    #Logistic Regression ||w-w'||\n",
        "    start_time = time.time()\n",
        "    w_reg = logisticRegression(xi_data, yi_data)\n",
        "    end_time = time.time()\n",
        "    time_reg = end_time - start_time\n",
        "    result_reg =  np.linalg.norm(w_star - w_reg)\n",
        "    lst_reg.append(result_reg)\n",
        "    #Gradient Descent ||w-w'|| \n",
        "    start_time = time.time()\n",
        "    w_grad = gradient_descent(x, y, w, eta, iterations)\n",
        "    end_time = time.time()\n",
        "    time_grad = end_time - start_time\n",
        "    result_grad =  np.linalg.norm(w_star - w_grad)\n",
        "    lst_grad.append(result_grad)\n",
        "    #Stochastic Gradient Descent ||w-w'||\n",
        "    start_time = time.time() \n",
        "    w_sgd = SGD(x, y, w, eta, iterations)\n",
        "    end_time = time.time()\n",
        "    time_sgd = end_time - start_time\n",
        "    result_sgd =  np.linalg.norm(w_star - w_sgd)\n",
        "    lst_sgd.append(result_sgd)\n",
        "print(\"Time taken to logistic regression: \" , time_reg, \" seconds\")\n",
        "print(\"Time taken to gradient Descent: \" , time_grad, \" seconds\")\n",
        "print(\"Time taken to Stochastic gradient descent: \" , time_sgd, \" seconds\")\n",
        "\n",
        "plt.plot(lst_m,lst_reg, label = \"Logistic Regression\")\n",
        "plt.plot(lst_m,lst_grad, label = \"Gradient Descent\")\n",
        "plt.plot(lst_m,lst_sgd, label = \"Stochastic Gradient Descent\")\n",
        "\n",
        "plt.xlabel(\"m\")\n",
        "plt.ylabel(\"Error\")\n",
        "plt.legend()\n",
        "plt.show()\n",
        "\n",
        "\n"
      ]
    },
    {
      "cell_type": "markdown",
      "metadata": {
        "id": "qIyrhjvpBRDw"
      },
      "source": [
        "# Problem 2"
      ]
    },
    {
      "cell_type": "code",
      "execution_count": 7,
      "metadata": {
        "id": "jMQR-i--BRDw"
      },
      "outputs": [],
      "source": [
        "from sklearn import datasets\n",
        "from sklearn.ensemble import AdaBoostClassifier\n",
        "from sklearn.tree import DecisionTreeClassifier\n",
        "from sklearn.model_selection import cross_val_score"
      ]
    },
    {
      "cell_type": "code",
      "execution_count": 8,
      "metadata": {
        "id": "VmmS_yUHBRDw"
      },
      "outputs": [],
      "source": [
        "cancer = datasets.load_breast_cancer()"
      ]
    },
    {
      "cell_type": "markdown",
      "metadata": {
        "id": "7Ig9LYWgBRDw"
      },
      "source": [
        "For each depth in $1, \\dots, 5$, instantiate an AdaBoost classifier with the base learner set to be a decision tree of that depth (set `n_estimators=10` and `learning_rate=1`), and then record the 10-fold cross-validated error on the entire breast cancer data set. Plot the resulting curve of accuracy against base classifier depth. Use $101$ as your random state for both the base learner as well as the AdaBoost classifier every time."
      ]
    },
    {
      "cell_type": "code",
      "execution_count": 9,
      "metadata": {
        "id": "H0MyPkB4BRDx",
        "colab": {
          "base_uri": "https://localhost:8080/",
          "height": 279
        },
        "outputId": "5653a7bc-e3c6-4549-b801-3ec2e9667769"
      },
      "outputs": [
        {
          "output_type": "display_data",
          "data": {
            "text/plain": [
              "<Figure size 432x288 with 1 Axes>"
            ],
            "image/png": "[encoded data removed]"
          },
          "metadata": {
            "needs_background": "light"
          }
        }
      ],
      "source": [
        "depth = [1,2,3,4,5]\n",
        "accuracy = []\n",
        "for i in depth:\n",
        "  tree = DecisionTreeClassifier(max_depth=i, random_state = 101)\n",
        "  clf = AdaBoostClassifier(base_estimator = tree, n_estimators=10,learning_rate = 1, random_state=101)\n",
        "  score = cross_val_score(clf,cancer.data,cancer.target,cv=10)\n",
        "  accuracy.append(np.mean(score))\n",
        "\n",
        "plt.plot(depth, accuracy)\n",
        "plt.xlabel(\"Base Classifier Depth\")\n",
        "plt.ylabel(\"10-Fold Accuracy\")\n",
        "plt.show()\n"
      ]
    },
    {
      "cell_type": "code",
      "source": [],
      "metadata": {
        "id": "HQfWs_64pUoA"
      },
      "execution_count": null,
      "outputs": []
    }
  ],
  "metadata": {
    "colab": {
      "provenance": [],
      "include_colab_link": true
    },
    "kernelspec": {
      "display_name": "Python 3",
      "language": "python",
      "name": "python3"
    },
    "language_info": {
      "codemirror_mode": {
        "name": "ipython",
        "version": 3
      },
      "file_extension": ".py",
      "mimetype": "text/x-python",
      "name": "python",
      "nbconvert_exporter": "python",
      "pygments_lexer": "ipython3",
      "version": "3.8.5"
    }
  },
  "nbformat": 4,
  "nbformat_minor": 0
}